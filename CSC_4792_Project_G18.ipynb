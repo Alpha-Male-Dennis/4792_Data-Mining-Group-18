{
  "nbformat": 4,
  "nbformat_minor": 0,
  "metadata": {
    "colab": {
      "provenance": [],
      "include_colab_link": true
    },
    "kernelspec": {
      "name": "python3",
      "display_name": "Python 3"
    },
    "language_info": {
      "name": "python"
    }
  },
  "cells": [
    {
      "cell_type": "markdown",
      "metadata": {
        "id": "view-in-github",
        "colab_type": "text"
      },
      "source": [
        "<a href=\"https://colab.research.google.com/github/Alpha-Male-Dennis/4792_Data-Mining-Group-18/blob/main/CSC_4792_Project_G18.ipynb\" target=\"_parent\"><img src=\"https://colab.research.google.com/assets/colab-badge.svg\" alt=\"Open In Colab\"/></a>"
      ]
    },
    {
      "cell_type": "code",
      "execution_count": null,
      "metadata": {
        "id": "K6sK_fXivHPN"
      },
      "outputs": [],
      "source": []
    },
    {
      "cell_type": "markdown",
      "source": [
        "## Initial Project Success Criteria\n",
        "\n",
        "* Accuracy: The model should achieve at least 85% accuracy in classifying articles into the correct discipline.\n",
        "* Interpretability: The model should provide explainable predictions (e.g., feature importance in decision-making).\n",
        "* Scalability: The solution should handle new, unseen articles without significant performance degradation."
      ],
      "metadata": {
        "id": "P5FUgw3wv5NK"
      }
    }
  ]
}