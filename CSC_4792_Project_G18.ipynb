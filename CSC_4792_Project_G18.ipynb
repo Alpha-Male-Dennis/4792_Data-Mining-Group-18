{
  "nbformat": 4,
  "nbformat_minor": 0,
  "metadata": {
    "colab": {
      "provenance": [],
      "include_colab_link": true
    },
    "kernelspec": {
      "name": "python3",
      "display_name": "Python 3"
    },
    "language_info": {
      "name": "python"
    }
  },
  "cells": [
    {
      "cell_type": "markdown",
      "metadata": {
        "id": "view-in-github",
        "colab_type": "text"
      },
      "source": [
        "<a href=\"https://colab.research.google.com/github/Alpha-Male-Dennis/4792_Data-Mining-Group-18/blob/main/CSC_4792_Project_G18.ipynb\" target=\"_parent\"><img src=\"https://colab.research.google.com/assets/colab-badge.svg\" alt=\"Open In Colab\"/></a>"
      ]
    },
    {
      "cell_type": "markdown",
      "source": [
        "# 1. Business Understanding\n",
        "\n",
        "## Problem Statement\n",
        "\n",
        "The Journal of Natural and Applied Sciences (JONAS) publishes multidisciplinary research articles across various disciplines, including environmental science, agriculture, mining, engineering, and water resources. Manually categorizing these articles into their respective disciplines based on titles and abstracts is time-consuming and subjective. An automated classification model is needed to accurately assign articles to their relevant disciplines using natural language processing (NLP) and machine learning techniques.\n",
        "\n",
        "## Business Objectives\n",
        "\n",
        "The primary business objectives are:\n",
        "\n",
        "1. Efficient Article Classification – Automate the categorization of journal articles to streamline editorial workflows.\n",
        "2. Improved Discoverability – Enhance search and retrieval of articles by discipline for researchers and readers.\n",
        "3. Reduced Manual Effort – Minimize the need for manual tagging by editors, reducing human error and workload.\n",
        "\n",
        "## Success Criteria\n",
        "* The model should correctly classify articles into predefined disciplines with high accuracy.\n",
        "* The solution should be scalable to handle new articles as the journal continues publishing.\n",
        "* The classification system should be interpretable, allowing editors to verify and adjust categories if needed.\n",
        "\n",
        "## Data Mining Goals\n",
        "\n",
        "* Text Preprocessing – Clean and preprocess article titles and abstracts (tokenization, stopword removal, stemming/lemmatization).\n",
        "* Feature Extraction – Convert text into numerical features using techniques like TF-IDF or word embeddings (Word2Vec, GloVe).\n",
        "* Model Development – Implement a supervised classification model (e.g., Naïve Bayes, SVM, Random Forest, or Neural Networks) to predict article disciplines.\n",
        "* Evaluation – Assess model performance using metrics such as accuracy, precision, recall, and F1-score.\n",
        "\n",
        "## Initial Project Success Criteria\n",
        "\n",
        "* Accuracy: The model should achieve at least 85% accuracy in classifying articles into the correct discipline.\n",
        "* Interpretability: The model should provide explainable predictions (e.g., feature importance in decision-making).\n",
        "* Scalability: The solution should handle new, unseen articles without significant performance degradation."
      ],
      "metadata": {
        "id": "P5FUgw3wv5NK"
      }
    },
    {
      "cell_type": "markdown",
      "source": [
        "# 2. Data Understanding\n",
        "\n",
        "## First mount drive"
      ],
      "metadata": {
        "id": "Qi6I54bzdbu7"
      }
    },
    {
      "cell_type": "code",
      "source": [
        "from google.colab import drive\n",
        "drive.mount('/content/drive')"
      ],
      "metadata": {
        "colab": {
          "base_uri": "https://localhost:8080/"
        },
        "id": "AOL4-KE7SK2I",
        "outputId": "23e28d74-4a9a-4897-9837-6dcb1cfe5b93"
      },
      "execution_count": null,
      "outputs": [
        {
          "output_type": "stream",
          "name": "stdout",
          "text": [
            "Mounted at /content/drive\n"
          ]
        }
      ]
    },
    {
      "cell_type": "markdown",
      "source": [
        "## 2.1 Load Raw Dataset"
      ],
      "metadata": {
        "id": "MS_N_lFVTDD9"
      }
    },
    {
      "cell_type": "code",
      "source": [
        "import pandas as pd\n",
        "\n",
        "# Load the dataset\n",
        "df = pd.read_csv('/content/drive/MyDrive/JONAS Dataset/journal_articles_final.csv')\n",
        "print(\"Dataset loaded successfully!\")"
      ],
      "metadata": {
        "colab": {
          "base_uri": "https://localhost:8080/"
        },
        "id": "J-Jl9enLTE1_",
        "outputId": "405d6637-872c-460a-f243-7c5b05026dd4"
      },
      "execution_count": null,
      "outputs": [
        {
          "output_type": "stream",
          "name": "stdout",
          "text": [
            "Dataset loaded successfully!\n"
          ]
        }
      ]
    }
  ]
}